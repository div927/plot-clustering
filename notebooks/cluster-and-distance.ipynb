{
 "cells": [
  {
   "cell_type": "code",
   "execution_count": 5,
   "metadata": {},
   "outputs": [],
   "source": [
    "import pandas as pd\n",
    "from termcolor import colored, cprint\n",
    "import tensorflow as tf\n",
    "import tensorflow_hub as hub\n",
    "from sklearn.cluster import KMeans\n",
    "from scipy.spatial import distance"
   ]
  },
  {
   "cell_type": "code",
   "execution_count": 6,
   "metadata": {},
   "outputs": [
    {
     "name": "stderr",
     "output_type": "stream",
     "text": [
      "2023-02-02 12:59:32.352398: W tensorflow/compiler/xla/stream_executor/platform/default/dso_loader.cc:64] Could not load dynamic library 'libcuda.so.1'; dlerror: libcuda.so.1: cannot open shared object file: No such file or directory\n",
      "2023-02-02 12:59:32.352437: W tensorflow/compiler/xla/stream_executor/cuda/cuda_driver.cc:265] failed call to cuInit: UNKNOWN ERROR (303)\n",
      "2023-02-02 12:59:32.352463: I tensorflow/compiler/xla/stream_executor/cuda/cuda_diagnostics.cc:156] kernel driver does not appear to be running on this host (codespaces-9bd2d7): /proc/driver/nvidia/version does not exist\n",
      "2023-02-02 12:59:32.352704: I tensorflow/core/platform/cpu_feature_guard.cc:193] This TensorFlow binary is optimized with oneAPI Deep Neural Network Library (oneDNN) to use the following CPU instructions in performance-critical operations:  AVX2 AVX512F FMA\n",
      "To enable them in other operations, rebuild TensorFlow with the appropriate compiler flags.\n",
      "2023-02-02 12:59:33.287589: W tensorflow/tsl/framework/cpu_allocator_impl.cc:82] Allocation of 34133760 exceeds 10% of free system memory.\n",
      "2023-02-02 12:59:33.310681: W tensorflow/tsl/framework/cpu_allocator_impl.cc:82] Allocation of 34133760 exceeds 10% of free system memory.\n",
      "2023-02-02 12:59:33.334181: W tensorflow/tsl/framework/cpu_allocator_impl.cc:82] Allocation of 34133760 exceeds 10% of free system memory.\n",
      "2023-02-02 12:59:33.358175: W tensorflow/tsl/framework/cpu_allocator_impl.cc:82] Allocation of 34133760 exceeds 10% of free system memory.\n",
      "2023-02-02 12:59:33.382726: W tensorflow/tsl/framework/cpu_allocator_impl.cc:82] Allocation of 34133760 exceeds 10% of free system memory.\n"
     ]
    }
   ],
   "source": [
    "module_url = \"https://tfhub.dev/google/universal-sentence-encoder/4\"\n",
    "model = hub.load(module_url)"
   ]
  },
  {
   "cell_type": "code",
   "execution_count": 28,
   "metadata": {},
   "outputs": [],
   "source": [
    "data = pd.read_csv('/workspaces/codespaces-jupyter/data/test_data.csv')\n",
    "# sentences = data['text'].values\n",
    "\n",
    "# sentence_embeddings = model(sentences)\n",
    "sentence_embeddings = model(data['text'].values)"
   ]
  },
  {
   "cell_type": "code",
   "execution_count": 29,
   "metadata": {},
   "outputs": [
    {
     "name": "stderr",
     "output_type": "stream",
     "text": [
      "/home/codespace/.local/lib/python3.10/site-packages/sklearn/cluster/_kmeans.py:870: FutureWarning: The default value of `n_init` will change from 10 to 'auto' in 1.4. Set the value of `n_init` explicitly to suppress the warning\n",
      "  warnings.warn(\n"
     ]
    }
   ],
   "source": [
    "kmeans = KMeans(n_clusters=10, random_state=0).fit(sentence_embeddings)"
   ]
  },
  {
   "cell_type": "code",
   "execution_count": 30,
   "metadata": {},
   "outputs": [],
   "source": [
    "centroids = kmeans.cluster_centers_"
   ]
  },
  {
   "cell_type": "code",
   "execution_count": 55,
   "metadata": {},
   "outputs": [],
   "source": [
    "results = []\n",
    "for i, embedding in enumerate(sentence_embeddings):\n",
    "    centroid = centroids[kmeans.labels_[i]]\n",
    "    dist = distance.euclidean(embedding, centroid)\n",
    "    cluster = kmeans.labels_[i]\n",
    "    result = {'movie_id': data['movie_id'][i], 'cluster': cluster, 'distance_from_centroid': dist}\n",
    "    results.append(result)"
   ]
  },
  {
   "cell_type": "code",
   "execution_count": 60,
   "metadata": {},
   "outputs": [
    {
     "name": "stdout",
     "output_type": "stream",
     "text": [
      "\u001b[36m============================================================================================================================================================\u001b[0m\n",
      "    movie_id  cluster  distance_from_centroid\n",
      "0        163        8                0.617964\n",
      "1        393        2                0.689873\n",
      "2        416        5                0.589512\n",
      "3        420        7                0.607917\n",
      "4        459        2                0.633172\n",
      "..       ...      ...                     ...\n",
      "92      8426        2                0.749626\n",
      "93      8509        1                0.912565\n",
      "94      8637        9                0.502169\n",
      "95      8727        2                0.663614\n",
      "96      8844        2                0.664410\n",
      "\n",
      "[97 rows x 3 columns]\n",
      "\u001b[33m============================================================================================================================================================\u001b[0m\n"
     ]
    }
   ],
   "source": [
    "df = pd.DataFrame(results)\n",
    "cprint(\"============================================================================================================================================================\",\"cyan\")\n",
    "print(df)\n",
    "cprint(\"============================================================================================================================================================\",\"yellow\")"
   ]
  },
  {
   "cell_type": "code",
   "execution_count": 61,
   "metadata": {},
   "outputs": [],
   "source": [
    "# header = [\"movie_id\", \"cluster\", \"distance_from_centroid\"]\n",
    "df.to_csv('/workspaces/codespaces-jupyter/data/result.csv',index=False)"
   ]
  }
 ],
 "metadata": {
  "kernelspec": {
   "display_name": "Python 3",
   "language": "python",
   "name": "python3"
  },
  "language_info": {
   "codemirror_mode": {
    "name": "ipython",
    "version": 3
   },
   "file_extension": ".py",
   "mimetype": "text/x-python",
   "name": "python",
   "nbconvert_exporter": "python",
   "pygments_lexer": "ipython3",
   "version": "3.10.4"
  },
  "orig_nbformat": 4,
  "vscode": {
   "interpreter": {
    "hash": "3ad933181bd8a04b432d3370b9dc3b0662ad032c4dfaa4e4f1596c548f763858"
   }
  }
 },
 "nbformat": 4,
 "nbformat_minor": 2
}
